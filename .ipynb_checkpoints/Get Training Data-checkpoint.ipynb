{
 "metadata": {
  "name": "",
  "signature": "sha256:76ed8d19cc466ee217795dfe46c4645b39cd778b1776782173ee04211c322691"
 },
 "nbformat": 3,
 "nbformat_minor": 0,
 "worksheets": [
  {
   "cells": [
    {
     "cell_type": "code",
     "collapsed": false,
     "input": [
      "import requests\n",
      "import time\n",
      "import json"
     ],
     "language": "python",
     "metadata": {},
     "outputs": [],
     "prompt_number": 8
    },
    {
     "cell_type": "code",
     "collapsed": false,
     "input": [
      "# API Key for query\n",
      "apiKey = '21273a82-e3b4-4813-9d0d-d34c3b3e8abb'"
     ],
     "language": "python",
     "metadata": {},
     "outputs": [],
     "prompt_number": 4
    },
    {
     "cell_type": "code",
     "collapsed": false,
     "input": [
      "# this is the match ID for an arbitrary random match to start counting down match IDs from\n",
      "# (happened to be selected from a game that Wesley had played)\n",
      "matchId = 1619739351\n",
      "counter = 0\n",
      "gamedata = []\n",
      "\n",
      "# set up dictionary to compare to filter out if no players\n",
      "noPlayers = {}\n",
      "noPlayers['participantId'] = 1\n",
      "\n",
      "while (counter < 1000):\n",
      "    url = 'https://na.api.pvp.net/api/lol/na/v2.2/match/'+str(matchId)+'?includeTimeline=false&api_key='+apiKey\n",
      "    query = requests.get(url)\n",
      "    # print query.status_code\n",
      "    \n",
      "    if query.status_code == 429:\n",
      "        # waiting for quota on API\n",
      "        # print \"sleeping\"\n",
      "        time.sleep(10)\n",
      "        # add back match id so the same match gets re-requested when quota is up\n",
      "        matchId += 1\n",
      "    elif query.status_code == 200:\n",
      "        tempData = query.json()\n",
      "        # filter for map type and removing noPlayer games\n",
      "        if tempData['participantIdentities'][0] != noPlayers:\n",
      "            if tempData['mapId'] == 1:\n",
      "                gamedata.append(tempData)\n",
      "                counter += 1\n",
      "                print counter\n",
      "        \n",
      "    matchId -= 1"
     ],
     "language": "python",
     "metadata": {},
     "outputs": [
      {
       "output_type": "stream",
       "stream": "stdout",
       "text": [
        "1\n",
        "2"
       ]
      },
      {
       "output_type": "stream",
       "stream": "stdout",
       "text": [
        "\n",
        "3"
       ]
      },
      {
       "output_type": "stream",
       "stream": "stdout",
       "text": [
        "\n",
        "4"
       ]
      },
      {
       "output_type": "stream",
       "stream": "stdout",
       "text": [
        "\n",
        "5"
       ]
      },
      {
       "output_type": "stream",
       "stream": "stdout",
       "text": [
        "\n"
       ]
      }
     ],
     "prompt_number": 31
    },
    {
     "cell_type": "code",
     "collapsed": false,
     "input": [
      "# write to file for speed\n",
      "with open('data1000.txt', 'w') as outfile:\n",
      "  json.dump(gamedata, outfile)"
     ],
     "language": "python",
     "metadata": {},
     "outputs": [],
     "prompt_number": 32
    }
   ],
   "metadata": {}
  }
 ]
}