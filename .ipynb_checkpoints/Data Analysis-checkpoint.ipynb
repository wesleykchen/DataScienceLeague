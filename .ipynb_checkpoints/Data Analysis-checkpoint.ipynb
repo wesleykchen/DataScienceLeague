{
 "metadata": {
  "name": "",
  "signature": "sha256:392e1a274d454fecce16f5cfe1008ed2f0a004e71d580cd0b38a750e3e966c33"
 },
 "nbformat": 3,
 "nbformat_minor": 0,
 "worksheets": [
  {
   "cells": [
    {
     "cell_type": "code",
     "collapsed": false,
     "input": [
      "import numpy as np"
     ],
     "language": "python",
     "metadata": {},
     "outputs": [],
     "prompt_number": 1
    },
    {
     "cell_type": "code",
     "collapsed": false,
     "input": [
      "lol"
     ],
     "language": "python",
     "metadata": {},
     "outputs": []
    }
   ],
   "metadata": {}
  }
 ]
}