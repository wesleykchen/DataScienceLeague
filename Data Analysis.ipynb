{
 "metadata": {
  "name": "",
  "signature": "sha256:4c8cea099c0f1de5abd37cf0c127bd70efb98a3e21e84a889d900e646e8e7986"
 },
 "nbformat": 3,
 "nbformat_minor": 0,
 "worksheets": []
}