{
 "metadata": {
  "name": "",
  "signature": "sha256:896458ad3d369424b0fb52ae0aaaf84d57ef54501585d71e1cbc5fa299fb7f3a"
 },
 "nbformat": 3,
 "nbformat_minor": 0,
 "worksheets": [
  {
   "cells": [
    {
     "cell_type": "code",
     "collapsed": false,
     "input": [
      "import json\n",
      "import requests\n",
      "import time\n",
      "import pandas as pd\n",
      "import pickle"
     ],
     "language": "python",
     "metadata": {},
     "outputs": [],
     "prompt_number": 57
    },
    {
     "cell_type": "code",
     "collapsed": false,
     "input": [
      "# API Key for query\n",
      "apiKey = '21273a82-e3b4-4813-9d0d-d34c3b3e8abb'"
     ],
     "language": "python",
     "metadata": {},
     "outputs": [],
     "prompt_number": 36
    },
    {
     "cell_type": "code",
     "collapsed": false,
     "input": [
      "# below are all functions from Data Grabbing ipython notebook as I wasn't sure how to import though I know it's possible\n",
      "\n",
      "def createChampionLookup():\n",
      "    # create map of chapmion name to ID and vice versa\n",
      "    champion2id = {}\n",
      "    id2champion = {}\n",
      "    \n",
      "    url = 'https://na.api.pvp.net/api/lol/na/v1.2/champion?api_key=' + apiKey\n",
      "    query = requests.get(url).json()\n",
      "    \n",
      "    for champ in query['champions']:\n",
      "        champId = str(champ['id'])\n",
      "        url2 = 'https://na.api.pvp.net/api/lol/static-data/na/v1.2/champion/'+champId+'?champData=info&api_key=' + apiKey\n",
      "        query2 = requests.get(url2).json()\n",
      "        champName = query2['name']\n",
      "        champion2id[champName.lower()] = champId\n",
      "        id2champion[champId] = champName.lower()\n",
      "    return champion2id, id2champion\n",
      "\n",
      "champion2id, id2champion = createChampionLookup()"
     ],
     "language": "python",
     "metadata": {},
     "outputs": [],
     "prompt_number": 89
    },
    {
     "cell_type": "code",
     "collapsed": false,
     "input": [
      "# ids are list of ints, not strings\n",
      "\n",
      "def getStats(summonerIds, championIds):\n",
      "    \n",
      "    # interesting stats to look for\n",
      "    games = []\n",
      "    KD = []\n",
      "    KDA = []\n",
      "    csPerGame = []\n",
      "    winRate = []\n",
      "    dmgPerGame = []\n",
      "\n",
      "    # get champion statistics per summoner\n",
      "    for idx, summId in enumerate(summonerIds):\n",
      "        url = 'https://na.api.pvp.net/api/lol/na/v1.3/stats/by-summoner/'+str(summId)+'/ranked?season=SEASON4&api_key='+apiKey\n",
      "        query = requests.get(url)\n",
      "        \n",
      "        # ensure we don't go over the API rate\n",
      "        while query.status_code != 200:\n",
      "            time.sleep(1)\n",
      "            query = requests.get(url)\n",
      "\n",
      "        data = query.json()\n",
      "        foundFlag = False\n",
      "        for champ in data['champions']:\n",
      "            if champ['id'] == championIds[idx]:\n",
      "                # some syntax shortcuts for readibility\n",
      "                stats = champ['stats']\n",
      "                numGames = float(stats['totalSessionsPlayed'])\n",
      "                # TODO fix this temporary test\n",
      "                if numGames == 0:\n",
      "                    numGames = 0.001\n",
      "                kills = float(stats['totalChampionKills'])/numGames\n",
      "                assists = float(stats['totalAssists'])/numGames\n",
      "                deaths = float(stats['totalDeathsPerSession'])/numGames\n",
      "                # TODO fix this temporary test\n",
      "                if deaths == 0:\n",
      "                    deaths = 0.001\n",
      "                cs = float(stats['totalMinionKills']/numGames)\n",
      "                wins = float(stats['totalSessionsWon'])\n",
      "                damage = float(stats['totalDamageDealt']/numGames)\n",
      "\n",
      "                # add per game numbers to lists\n",
      "                games.append(numGames)\n",
      "                KD.append(kills/deaths)\n",
      "                KDA.append((kills+assists)/deaths)\n",
      "                csPerGame.append(cs)\n",
      "                winRate.append(wins/numGames*100)\n",
      "                dmgPerGame.append(damage)\n",
      "                foundFlag = True\n",
      "\n",
      "            if champ == data['champions'][-1] and not(foundFlag):\n",
      "                games.append(0.0)\n",
      "                KD.append(0.0)\n",
      "                KDA.append(0.0)\n",
      "                csPerGame.append(0.0)\n",
      "                winRate.append(0.0)\n",
      "                dmgPerGame.append(0.0)\n",
      "\n",
      "    return games, KD, KDA, csPerGame, winRate, dmgPerGame"
     ],
     "language": "python",
     "metadata": {},
     "outputs": [],
     "prompt_number": 107
    },
    {
     "cell_type": "code",
     "collapsed": false,
     "input": [
      "datafile = open('data5.txt', 'r')\n",
      "gamedata = json.loads(datafile.read())\n",
      "\n",
      "# did not check for the team that tehy are on yet - assuming API has it 5 then 5 - but can confirm later\n",
      "\n",
      "# DICTIONARY INDEXED BY GAME# (from 0 to max) with 6 lists each, \n",
      "allGamesStats = {}\n",
      "\n",
      "counter = 0\n",
      "for game in gamedata:\n",
      "    teamMap = {}\n",
      "    championMap = {}\n",
      "    \n",
      "    # get information of participants in game as dictionary to perserve relative order\n",
      "    \n",
      "    for player in game['participantIdentities']:\n",
      "        teamMap[player['participantId']] = player['player']['summonerId']\n",
      "    \n",
      "    for champion in game['participants']:\n",
      "        championMap[champion['participantId']] = champion['championId']\n",
      "    \n",
      "    \n",
      "    # convert dictionary to list in respective order between champion and summoner\n",
      "    teamList = []\n",
      "    championList = []\n",
      "    for x in xrange(1,11):\n",
      "        teamList.append(teamMap[x])\n",
      "        championList.append(championMap[x])\n",
      "        \n",
      "    #summonerInfoInGames.append(teamList)\n",
      "    #championInfoInGames.append(championList)\n",
      "\n",
      "        \n",
      "    allGamesStats[counter] = getStats(teamList, championList)\n",
      "    counter += 1\n",
      "    \n",
      "#print allGamesStats"
     ],
     "language": "python",
     "metadata": {},
     "outputs": [
      {
       "output_type": "stream",
       "stream": "stdout",
       "text": [
        "429\n",
        "429"
       ]
      },
      {
       "output_type": "stream",
       "stream": "stdout",
       "text": [
        "\n",
        "429"
       ]
      },
      {
       "output_type": "stream",
       "stream": "stdout",
       "text": [
        "\n",
        "429"
       ]
      },
      {
       "output_type": "stream",
       "stream": "stdout",
       "text": [
        "\n",
        "429"
       ]
      },
      {
       "output_type": "stream",
       "stream": "stdout",
       "text": [
        "\n",
        "429"
       ]
      },
      {
       "output_type": "stream",
       "stream": "stdout",
       "text": [
        "\n",
        "429"
       ]
      },
      {
       "output_type": "stream",
       "stream": "stdout",
       "text": [
        "\n",
        "429"
       ]
      },
      {
       "output_type": "stream",
       "stream": "stdout",
       "text": [
        "\n",
        "429"
       ]
      },
      {
       "output_type": "stream",
       "stream": "stdout",
       "text": [
        "\n",
        "429"
       ]
      },
      {
       "output_type": "stream",
       "stream": "stdout",
       "text": [
        "\n",
        "429"
       ]
      },
      {
       "output_type": "stream",
       "stream": "stdout",
       "text": [
        "\n",
        "429"
       ]
      },
      {
       "output_type": "stream",
       "stream": "stdout",
       "text": [
        "\n",
        "429"
       ]
      },
      {
       "output_type": "stream",
       "stream": "stdout",
       "text": [
        "\n",
        "429"
       ]
      },
      {
       "output_type": "stream",
       "stream": "stdout",
       "text": [
        "\n",
        "429"
       ]
      },
      {
       "output_type": "stream",
       "stream": "stdout",
       "text": [
        "\n",
        "429"
       ]
      },
      {
       "output_type": "stream",
       "stream": "stdout",
       "text": [
        "\n",
        "429"
       ]
      },
      {
       "output_type": "stream",
       "stream": "stdout",
       "text": [
        "\n",
        "429"
       ]
      },
      {
       "output_type": "stream",
       "stream": "stdout",
       "text": [
        "\n",
        "429"
       ]
      },
      {
       "output_type": "stream",
       "stream": "stdout",
       "text": [
        "\n",
        "429"
       ]
      },
      {
       "output_type": "stream",
       "stream": "stdout",
       "text": [
        "\n",
        "429"
       ]
      },
      {
       "output_type": "stream",
       "stream": "stdout",
       "text": [
        "\n",
        "429"
       ]
      },
      {
       "output_type": "stream",
       "stream": "stdout",
       "text": [
        "\n"
       ]
      },
      {
       "ename": "KeyboardInterrupt",
       "evalue": "",
       "output_type": "pyerr",
       "traceback": [
        "\u001b[1;31m---------------------------------------------------------------------------\u001b[0m\n\u001b[1;31mKeyboardInterrupt\u001b[0m                         Traceback (most recent call last)",
        "\u001b[1;32m<ipython-input-113-078cdca7d3b1>\u001b[0m in \u001b[0;36m<module>\u001b[1;34m()\u001b[0m\n\u001b[0;32m     34\u001b[0m \u001b[1;33m\u001b[0m\u001b[0m\n\u001b[0;32m     35\u001b[0m \u001b[1;33m\u001b[0m\u001b[0m\n\u001b[1;32m---> 36\u001b[1;33m     \u001b[0mallGamesStats\u001b[0m\u001b[1;33m[\u001b[0m\u001b[0mcounter\u001b[0m\u001b[1;33m]\u001b[0m \u001b[1;33m=\u001b[0m \u001b[0mgetStats\u001b[0m\u001b[1;33m(\u001b[0m\u001b[0mteamList\u001b[0m\u001b[1;33m,\u001b[0m \u001b[0mchampionList\u001b[0m\u001b[1;33m)\u001b[0m\u001b[1;33m\u001b[0m\u001b[0m\n\u001b[0m\u001b[0;32m     37\u001b[0m     \u001b[0mcounter\u001b[0m \u001b[1;33m+=\u001b[0m \u001b[1;36m1\u001b[0m\u001b[1;33m\u001b[0m\u001b[0m\n\u001b[0;32m     38\u001b[0m \u001b[1;33m\u001b[0m\u001b[0m\n",
        "\u001b[1;32m<ipython-input-107-9d9143743dc7>\u001b[0m in \u001b[0;36mgetStats\u001b[1;34m(summonerIds, championIds)\u001b[0m\n\u001b[0;32m     13\u001b[0m     \u001b[1;31m# get champion statistics per summoner\u001b[0m\u001b[1;33m\u001b[0m\u001b[1;33m\u001b[0m\u001b[0m\n\u001b[0;32m     14\u001b[0m     \u001b[1;32mfor\u001b[0m \u001b[0midx\u001b[0m\u001b[1;33m,\u001b[0m \u001b[0msummId\u001b[0m \u001b[1;32min\u001b[0m \u001b[0menumerate\u001b[0m\u001b[1;33m(\u001b[0m\u001b[0msummonerIds\u001b[0m\u001b[1;33m)\u001b[0m\u001b[1;33m:\u001b[0m\u001b[1;33m\u001b[0m\u001b[0m\n\u001b[1;32m---> 15\u001b[1;33m         \u001b[0mtime\u001b[0m\u001b[1;33m.\u001b[0m\u001b[0msleep\u001b[0m\u001b[1;33m(\u001b[0m\u001b[1;36m1\u001b[0m\u001b[1;33m)\u001b[0m\u001b[1;33m\u001b[0m\u001b[0m\n\u001b[0m\u001b[0;32m     16\u001b[0m         \u001b[0murl\u001b[0m \u001b[1;33m=\u001b[0m \u001b[1;34m'https://na.api.pvp.net/api/lol/na/v1.3/stats/by-summoner/'\u001b[0m\u001b[1;33m+\u001b[0m\u001b[0mstr\u001b[0m\u001b[1;33m(\u001b[0m\u001b[0msummId\u001b[0m\u001b[1;33m)\u001b[0m\u001b[1;33m+\u001b[0m\u001b[1;34m'/ranked?season=SEASON4&api_key='\u001b[0m\u001b[1;33m+\u001b[0m\u001b[0mapiKey\u001b[0m\u001b[1;33m\u001b[0m\u001b[0m\n\u001b[0;32m     17\u001b[0m         \u001b[0mquery\u001b[0m \u001b[1;33m=\u001b[0m \u001b[0mrequests\u001b[0m\u001b[1;33m.\u001b[0m\u001b[0mget\u001b[0m\u001b[1;33m(\u001b[0m\u001b[0murl\u001b[0m\u001b[1;33m)\u001b[0m\u001b[1;33m\u001b[0m\u001b[0m\n",
        "\u001b[1;31mKeyboardInterrupt\u001b[0m: "
       ]
      }
     ],
     "prompt_number": 113
    },
    {
     "cell_type": "code",
     "collapsed": false,
     "input": [
      "with open('data5summarized.txt', 'wb') as handle:\n",
      "  pickle.dump(allGameStats, handle)\n",
      "\n",
      "with open('data5summarized.txt', 'rb') as handle:\n",
      "  copyTest = pickle.loads(handle.read())"
     ],
     "language": "python",
     "metadata": {},
     "outputs": []
    }
   ],
   "metadata": {}
  }
 ]
}