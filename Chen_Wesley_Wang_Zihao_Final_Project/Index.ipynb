{
 "metadata": {
  "name": "",
  "signature": "sha256:3460c9a958b6e7e190923e38acce0c83a8b20aadbb5f76cb035a5f905c9f59b2"
 },
 "nbformat": 3,
 "nbformat_minor": 0,
 "worksheets": [
  {
   "cells": [
    {
     "cell_type": "heading",
     "level": 1,
     "metadata": {},
     "source": [
      "Data Science in eSports: League of Legends"
     ]
    },
    {
     "cell_type": "heading",
     "level": 4,
     "metadata": {},
     "source": [
      "Wesley Chen and Zihao Wang"
     ]
    },
    {
     "cell_type": "heading",
     "level": 4,
     "metadata": {},
     "source": [
      "Clone our Code: https://github.com/itsWezzles/DataScienceLeague"
     ]
    },
    {
     "cell_type": "heading",
     "level": 3,
     "metadata": {},
     "source": [
      "League of... Legends?"
     ]
    },
    {
     "cell_type": "markdown",
     "metadata": {},
     "source": [
      "Every day, around the world,  there are 27 million unique players on League.  In comparison, World of Warcraft, which you may have heard of being hyper-addicting, only ever brought in 12 million players per day at its peak.\n",
      "\n",
      "There are professional teams from every continent.  The world championship this year was held in the Seoul Olympic Stadium, attended to live by 45,000.  They competed for a $1,000,000 grand prize and the opening ceremony included a commissioned piece for League of Legends by Imagine Dragons (https://www.youtube.com/watch?v=O-0AvmP94n0)\n",
      "\n",
      "The overall viewership of the 2013 League World Finals was 32 million, beating viewership of both the NBA finals and Game 7 of the 2014 World Series, (at 15.5 million and 23.5 million,respectively).\n",
      "\n",
      "With so many games being played, the data of League of Legends is just as readily available as statistics in other sports.  It's time to apply data science to League of Legends."
     ]
    },
    {
     "cell_type": "heading",
     "level": 3,
     "metadata": {},
     "source": [
      "How to Play"
     ]
    },
    {
     "cell_type": "markdown",
     "metadata": {},
     "source": [
      "10 players spawn onto a map, 5 per side.  One player can only control one champion.  There are paths to reach the other team's base, protected by destructible but damaging towers.  The first team to destroy the other team's base wins.  Players can earn gold to buy items to become stronger.  Gold is earned through killing enemy minions (computer spawned AI pawns) or successfully killing an enemy champion.  When a champion dies, he or she will be respawned on a timer that increases over time.  When uncontested, objectives such as parts of the base can be destroyed - leading to victory.\n",
      "\n",
      "Each League game starts from a reset map, like each game of chess.  Everyone starts from the same position but it's up to how you make your moves that distinguishes the good from the bad.\n",
      "\n",
      "For a more visual description or for even more details, we'll let Riot Games make their pitch: http://gameinfo.na.leagueoflegends.com/en/game-info/get-started/what-is-lol/\n",
      "\n",
      "Or perhaps watch a League Game currently being streamed live on Twitch.tv:\n",
      "http://www.twitch.tv/directory/game/League%20of%20Legends"
     ]
    },
    {
     "cell_type": "heading",
     "level": 3,
     "metadata": {},
     "source": [
      "Project Goals"
     ]
    },
    {
     "cell_type": "markdown",
     "metadata": {},
     "source": [
      "1. Get training data of many past matches and players on the champions they were playing\n",
      "\n",
      "2. For each player, get his or her previous statistics with the same champion\n",
      "\n",
      "3. Train with the result of the match as the target to see if we can determine which statistics were the most useful to predict win or loss\n",
      "\n",
      "4. Learn from working with the data and any analysis to see if any surprising data-supported claims could be made"
     ]
    },
    {
     "cell_type": "heading",
     "level": 3,
     "metadata": {},
     "source": [
      "Progress Book Walkthrough/Overivew"
     ]
    },
    {
     "cell_type": "markdown",
     "metadata": {},
     "source": [
      "Our project is broken down into 5 other iPython notebooks where we perform modularized tasks to achieve our final predictive state.  The goal if the index is to provide some general introduction, high level orgnization and some summarizing comments more related to the project experience.  The first 3 notebooks are regarding data aquisition and cleaning and are written more as utility functions to create and clean data files wheras the latter 2 notebooks are aout analysis where we see results and are written as reports with discussions under each figure in the file itself.\n",
      "\n",
      "Also listed below are the iPython notebook names to follow through the logic of our project - with some comments about each notebook as well.  Please cross-reference them with the actual notebook contents and comments when looking through the code and visualizations.  \n",
      "\n",
      "Again, in order of logic:\n",
      "\n",
      "A. Learning The API.ipynb\n",
      "\n",
      "- Our first experimentation with the API, familiarity with working with the Riot API which is found https://developer.riotgames.com/api/methods and queriable through curl to return json objects\n",
      "\n",
      "- Although easy to get, the json objects were often large and contained many nested layers\n",
      "\n",
      "- We demonstrate the ability to search for and find some statsitics for how Wesley and Jason have historically done on two given champions\n",
      "\n",
      "B. GetTrainingData.ipynb\n",
      "\n",
      "- This file does the task of doing the data aquisition\n",
      "\n",
      "- Match IDs are generated systematically and then querried\n",
      "\n",
      "- If the game mode is of the main map, we access all 10 players and get their IDs and champions they played\n",
      "\n",
      "- These numbers are saved to a file for easy access\n",
      "\n",
      "C. DataSummarizing and Cleaning.ipynb\n",
      "\n",
      "- Each of the game data for each player in a game is parsed and we look up each players historic statistics on the character they were playing, and append to a master map of feature vectors concluding with a vector resulting in result\n",
      "\n",
      "- We rationalize some expectations for the features that we collect, from useful to not. Please take a look!\n",
      "\n",
      "D. Initial Data Analysis.ipynb\n",
      "\n",
      "- We want to predict, given some historic stats on of a player's performance, the probability that a player will win his/her next game\n",
      "\n",
      "- To simplify the model, we assume a players future performance is independent of his/her teammates\n",
      "\n",
      "- We split the training data into two categories, whether the player is victorious or not\n",
      "\n",
      "- We use a Random Forest predictor because of the categorical nature of the data (win or lose)\n",
      "\n",
      "- We decided against a SVM or KNN because most of the data is overlapped\n",
      "\n",
      "- Conclusion: The model is around 55-60% accurate on predicting the test set which is better than guessing. Furthermore, it's surprising to note that a lower KD increases the chance of winning. (See file for more information.)\n",
      "\n",
      "E. Full Data Analysis.ipynb\n",
      "\n",
      "- We decide to improve our predictor by adding more features. We perform the similar analysis in the initial data analysis\n",
      "\n",
      "- The similar conclusions hold. We increase our accuracy to 62% which is reasonable better than just randomly guessing\n",
      "\n",
      "- More features does help us make feature-reated statements - claiming that certain statistics do not matter to predicting the result of the game which as a data-support claim is interesting by itself"
     ]
    },
    {
     "cell_type": "heading",
     "level": 3,
     "metadata": {},
     "source": [
      "Unexpected Obstacles"
     ]
    },
    {
     "cell_type": "markdown",
     "metadata": {},
     "source": [
      "A. Time Biasing\n",
      "Our historic statistics are time biased - meaning that they will always be prportional to time.  A longer game has more kills and greater numbers, which will inflate the average.  Therefore, our data will alway weight victories of long games over victories of shorter games.  Similarly, losses of longer games are forgiven more.  There is a further time variable of being able to surrender - when the game will end prematurely and not let the full statistics play out as a close game would.\n",
      "\n",
      "\n",
      "B. Strongly limited to Information API Contained\n",
      "A fix to the problem would be to not use the historic statsitics averaged by game but averaged by time.  However, this data was not available as only the per-game average was stored.  Choices had to be made to understand and work around API limitations.\n",
      "\n",
      "\n",
      "C. Understandably Harder to Predict with Large Variations\n",
      "League of Legends is truly a game played by all types and skill-levels of players.  This caused a lot of variation.  There were also confounding factors in correlation that made prediction difficult since the game is very team dependent.  A strong solo performance is not enough.  And sometimes, when the enemy team is being \"fed\" by your poor teammates, no one, no matter how well they are playing can deal with the enemy and thus your negative stats don't actually represent your performance."
     ]
    },
    {
     "cell_type": "heading",
     "level": 3,
     "metadata": {},
     "source": [
      "Future Work"
     ]
    },
    {
     "cell_type": "markdown",
     "metadata": {},
     "source": [
      "Given an understanding of what exact statistics are saved and available now, it may be interesting to be able to look at the data to see if we can make claims about a certain champion (ones that are hard to play, or those that although do indvidually well, tend to lose games anyway).  Perhaps we could also filter the games colleted by the ELO (or think chess rating) to make some statements about how different quality players play differently.  Having all levels of games may be putting in too much noise or variation to make overarching statement about the entire game."
     ]
    },
    {
     "cell_type": "heading",
     "level": 3,
     "metadata": {},
     "source": [
      "Conclusion"
     ]
    },
    {
     "cell_type": "markdown",
     "metadata": {},
     "source": [
      "Overall, we were able to demonstrate some predctive 60-70% tuned power in a difficult space.  We were able to identify important factors with past win rate on your champion and your kill-to-death ratio being the most important.  Though other factors were close the predictive power of the kill-death ratio.  Even more successfully, we were able to learn some interesting facts about the game from working with the data.  The kill-death ratio, the most commonly cited statistics by players to boast ability, predicts game results fairly strongly - however, only at intermediate levels.  Players that have too high of a KDA actually lose games - why? Perhaps they are playing too greedily and stealing all the gold away and netting a loss anyway!"
     ]
    }
   ],
   "metadata": {}
  }
 ]
}