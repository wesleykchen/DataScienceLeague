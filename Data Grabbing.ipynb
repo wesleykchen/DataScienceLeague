{
 "metadata": {
  "name": "",
  "signature": "sha256:80fb91b9b1c745b44154d4af54c4387043c0465e7fc1af85773f0a187657129e"
 },
 "nbformat": 3,
 "nbformat_minor": 0,
 "worksheets": [
  {
   "cells": [
    {
     "cell_type": "code",
     "collapsed": false,
     "input": [
      "import requests\n",
      "import time"
     ],
     "language": "python",
     "metadata": {},
     "outputs": [],
     "prompt_number": 9
    },
    {
     "cell_type": "code",
     "collapsed": false,
     "input": [
      "# API Key for query\n",
      "apiKey = '21273a82-e3b4-4813-9d0d-d34c3b3e8abb'"
     ],
     "language": "python",
     "metadata": {},
     "outputs": [],
     "prompt_number": 2
    },
    {
     "cell_type": "code",
     "collapsed": false,
     "input": [
      "def createChampionLookup():\n",
      "    # create map of chapmion name to ID and vice versa\n",
      "    champion2id = {}\n",
      "    id2champion = {}\n",
      "    \n",
      "    url = 'https://na.api.pvp.net/api/lol/na/v1.2/champion?api_key=' + apiKey\n",
      "    query = requests.get(url).json()\n",
      "    \n",
      "    for champ in query['champions']:\n",
      "        champId = str(champ['id'])\n",
      "        url2 = 'https://na.api.pvp.net/api/lol/static-data/na/v1.2/champion/'+champId+'?champData=info&api_key=' + apiKey\n",
      "        query2 = requests.get(url2).json()\n",
      "        champName = query2['name']\n",
      "        champion2id[champName.lower()] = champId\n",
      "        id2champion[champId] = champName.lower()\n",
      "    return champion2id, id2champion\n",
      "\n",
      "champion2id, id2champion = createChampionLookup()"
     ],
     "language": "python",
     "metadata": {},
     "outputs": [],
     "prompt_number": 12
    },
    {
     "cell_type": "code",
     "collapsed": false,
     "input": [
      "# agreed on formats - all names in lower case\n",
      "# first 5 are team 1, second are team 2 (can generalize with first 1:n/2 then n/2:n being team 2 for even teams)\n",
      "\n",
      "def convertNamesToIds(summonerNames, championNames):\n",
      "    summonerNames = [x.lower() for x in summonerNames]\n",
      "\n",
      "    # champions played by summoner aligned\n",
      "    championNames = [x.lower() for x in championNames]\n",
      "\n",
      "    # find summoner ID\n",
      "    summonerIds = []\n",
      "    for summName in summonerNames:\n",
      "        print summName\n",
      "        url = 'https://na.api.pvp.net/api/lol/na/v1.4/summoner/by-name/'+summName+'?api_key=' + apiKey\n",
      "        query = requests.get(url)\n",
      "        # sometimes the name will have changed\n",
      "        if query.status_code != 200:\n",
      "            # TODO this will lead to the summonerLookup code blowing up - will need to hotfix if we use this functionality\n",
      "            summonerIds.append('-1')\n",
      "            print query.status_code\n",
      "            continue;\n",
      "        data = query.json()\n",
      "        summName = summName.replace(\" \", \"\")\n",
      "        summonerIds.append(int(data[summName]['id']))\n",
      "\n",
      "    # convert championName to championID\n",
      "    championIds = [int(champion2id[x]) for x in championNames]\n",
      "    return summonerIds, championIds"
     ],
     "language": "python",
     "metadata": {},
     "outputs": [],
     "prompt_number": 25
    },
    {
     "cell_type": "code",
     "collapsed": false,
     "input": [
      "# data from game\n",
      "summonerNamesTest = ['Qreativity', 'Fishball314']\n",
      "championNamesTest = ['nidalee', 'lulu']\n",
      "print convertNamesToIds(summonerNamesTest, championNamesTest)"
     ],
     "language": "python",
     "metadata": {},
     "outputs": [
      {
       "output_type": "stream",
       "stream": "stdout",
       "text": [
        "qreativity\n",
        "fishball314"
       ]
      },
      {
       "output_type": "stream",
       "stream": "stdout",
       "text": [
        "\n",
        "([44900132, 32174023], [76, 117])"
       ]
      },
      {
       "output_type": "stream",
       "stream": "stdout",
       "text": [
        "\n"
       ]
      }
     ],
     "prompt_number": 26
    },
    {
     "cell_type": "code",
     "collapsed": false,
     "input": [
      "# ids are list of ints, not strings\n",
      "\n",
      "def getStats(summonerIds, championIds):\n",
      "    \n",
      "    # interesting stats to look for\n",
      "    games = []\n",
      "    KD = []\n",
      "    KDA = []\n",
      "    csPerGame = []\n",
      "    winRate = []\n",
      "    dmgPerGame = []\n",
      "    result = []\n",
      "\n",
      "    # get champion statistics per summoner\n",
      "    for idx, summId in enumerate(summonerIds):\n",
      "        # ensure we don't go over the API rate\n",
      "        time.sleep(1)\n",
      "        url = 'https://na.api.pvp.net/api/lol/na/v1.3/stats/by-summoner/'+str(summId)+'/ranked?season=SEASON4&api_key='+apiKey\n",
      "        query = requests.get(url)\n",
      "        if query.status_code != 200:\n",
      "            print query.status_code\n",
      "            continue\n",
      "        data = query.json()\n",
      "        foundFlag = False\n",
      "        for champ in data['champions']:\n",
      "            if champ['id'] == championIds[idx]:\n",
      "                # some syntax shortcuts for readibility\n",
      "                stats = champ['stats']\n",
      "                numGames = float(stats['totalSessionsPlayed'])\n",
      "                # TODO divide by zero analysis for comparison\n",
      "                if numGames == 0:\n",
      "                    numGames = 0.001\n",
      "                kills = float(stats['totalChampionKills'])/numGames\n",
      "                assists = float(stats['totalAssists'])/numGames\n",
      "                deaths = float(stats['totalDeathsPerSession'])/numGames\n",
      "                # TODO divide by zero analysis for comparison\n",
      "                if deaths == 0:\n",
      "                    deaths = 0.001\n",
      "                cs = float(stats['totalMinionKills']/numGames)\n",
      "                wins = float(stats['totalSessionsWon'])\n",
      "                damage = float(stats['totalDamageDealt']/numGames)\n",
      "\n",
      "                # add per game numbers to lists\n",
      "                games.append(numGames)\n",
      "                KD.append(kills/deaths)\n",
      "                KDA.append((kills+assists)/deaths)\n",
      "                csPerGame.append(cs)\n",
      "                winRate.append(wins/numGames*100)\n",
      "                dmgPerGame.append(damage)\n",
      "                foundFlag = True\n",
      "\n",
      "            if champ == data['champions'][-1] and not(foundFlag):\n",
      "                games.append(0.0)\n",
      "                KD.append(0.0)\n",
      "                KDA.append(0.0)\n",
      "                csPerGame.append(0.0)\n",
      "                winRate.append(0.0)\n",
      "                dmgPerGame.append(0.0)\n",
      "\n",
      "    return games, KD, KDA, csPerGame, winRate, dmgPerGame, result"
     ],
     "language": "python",
     "metadata": {},
     "outputs": [],
     "prompt_number": 29
    },
    {
     "cell_type": "code",
     "collapsed": false,
     "input": [
      "summonerIdsTest, championIdsTest = convertNamesToIds(summonerNamesTest, championNamesTest)\n",
      "\n",
      "print getStats(summonerIdsTest, championIdsTest)"
     ],
     "language": "python",
     "metadata": {},
     "outputs": [
      {
       "output_type": "stream",
       "stream": "stdout",
       "text": [
        "qreativity\n",
        "fishball314"
       ]
      },
      {
       "output_type": "stream",
       "stream": "stdout",
       "text": [
        "\n",
        "([22.0, 7.0], [2.919354838709677, 1.4285714285714286], [5.548387096774193, 5.142857142857142], [202.45454545454547, 123.71428571428571], [77.27272727272727, 71.42857142857143], [171649.54545454544, 85296.57142857143])"
       ]
      },
      {
       "output_type": "stream",
       "stream": "stdout",
       "text": [
        "\n"
       ]
      }
     ],
     "prompt_number": 30
    }
   ],
   "metadata": {}
  }
 ]
}