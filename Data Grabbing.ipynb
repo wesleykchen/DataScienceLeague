{
 "metadata": {
  "name": "",
  "signature": "sha256:e22067846370b503d7bf1212c5cc2c59e3d52a42f23ff8fd17b1be2404c1132e"
 },
 "nbformat": 3,
 "nbformat_minor": 0,
 "worksheets": [
  {
   "cells": [
    {
     "cell_type": "code",
     "collapsed": false,
     "input": [
      "import pandas as pd\n",
      "import numpy as np\n",
      "import requests\n",
      "import time"
     ],
     "language": "python",
     "metadata": {},
     "outputs": [],
     "prompt_number": 47
    },
    {
     "cell_type": "code",
     "collapsed": false,
     "input": [
      "# API Key for query\n",
      "apiKey = '21273a82-e3b4-4813-9d0d-d34c3b3e8abb'"
     ],
     "language": "python",
     "metadata": {},
     "outputs": [],
     "prompt_number": 58
    },
    {
     "cell_type": "code",
     "collapsed": false,
     "input": [
      "# create map of chapmion name to ID\n",
      "championLookup = {}\n",
      "url = 'https://na.api.pvp.net/api/lol/na/v1.2/champion?api_key=' + apiKey\n",
      "query = requests.get(url).json()\n",
      "for champ in query['champions']:\n",
      "    champId = str(champ['id'])\n",
      "    url2 = 'https://na.api.pvp.net/api/lol/static-data/na/v1.2/champion/'+champId+'?champData=info&api_key=' + apiKey\n",
      "    query2 = requests.get(url2).json()\n",
      "    champName = query2['name']\n",
      "    championLookup[champName.lower()] = champId\n",
      "\n",
      "print championLookup"
     ],
     "language": "python",
     "metadata": {},
     "outputs": [
      {
       "output_type": "stream",
       "stream": "stdout",
       "text": [
        "{u'evelynn': '28', u'zed': '238', u'nunu': '20', u'swain': '50', u'taric': '44', u'miss fortune': '21', u\"cho'gath\": '31', u'graves': '104', u'nocturne': '56', u'twisted fate': '4', u'dr. mundo': '36', u'shaco': '35', u'morgana': '25', u'aatrox': '266', u'draven': '119', u'nidalee': '76', u'kassadin': '38', u'sona': '37', u'vladimir': '8', u'cassiopeia': '69', u'skarner': '72', u'malzahar': '90', u'amumu': '32', u'olaf': '2', u'sivir': '15', u'riven': '92', u'nami': '267', u'gangplank': '41', u'syndra': '134', u'poppy': '78', u'volibear': '106', u\"vel'koz\": '161', u'kennen': '85', u\"kha'zix\": '121', u'ryze': '13', u'gragas': '79', u'garen': '86', u'diana': '131', u'karthus': '30', u'jayce': '126', u'sion': '14', u'elise': '60', u'alistar': '12', u'vayne': '67', u'ezreal': '81', u'fiddlesticks': '9', u\"kog'maw\": '96', u'lux': '99', u'lee sin': '64', u'fiora': '114', u'kalista': '429', u'talon': '91', u'azir': '268', u'kayle': '10', u'nasus': '75', u'lissandra': '127', u'anivia': '34', u'heimerdinger': '74', u'gnar': '150', u'ashe': '22', u'xin zhao': '5', u'malphite': '54', u'annie': '1', u'twitch': '29', u'yasuo': '157', u'tryndamere': '23', u'janna': '40', u'blitzcrank': '53', u'zac': '154', u'hecarim': '120', u'quinn': '133', u'leblanc': '7', u'katarina': '55', u'shen': '98', u'warwick': '19', u'jinx': '222', u'caitlyn': '51', u'renekton': '58', u'viktor': '112', u'brand': '63', u'corki': '42', u'braum': '201', u'maokai': '57', u'yorick': '83', u'thresh': '412', u'jax': '24', u'urgot': '6', u'tristana': '18', u'galio': '3', u'irelia': '39', u'orianna': '61', u'jarvan iv': '59', u'soraka': '16', u'varus': '110', u'fizz': '105', u'veigar': '45', u'rengar': '107', u'nautilus': '111', u'vi': '254', u'lulu': '117', u'pantheon': '80', u'trundle': '48', u'ahri': '103', u'shyvana': '102', u'udyr': '77', u'master yi': '11', u'lucian': '236', u'zyra': '143', u'mordekaiser': '82', u'zilean': '26', u'rammus': '33', u'rumble': '68', u'wukong': '62', u'sejuani': '113', u'xerath': '101', u'ziggs': '115', u'singed': '27', u'karma': '43', u'akali': '84', u'leona': '89', u'darius': '122', u'teemo': '17'}\n"
       ]
      }
     ],
     "prompt_number": 57
    },
    {
     "cell_type": "code",
     "collapsed": false,
     "input": [
      "# agreed on formats - all names in lower case\n",
      "# first 5 are team 1, second are team 2 (can generalize with first 1:n/2 then n/2:n being team 2 for even teams)\n",
      "\n",
      "# given summoner data\n",
      "summonerName = ['Qreativity', 'Fishball314']\n",
      "summonerName = [x.lower() for x in summonerName]\n",
      "\n",
      "# champions played by summoner aligned\n",
      "championName = ['nidalee', 'lulu']\n",
      "championName = [x.lower() for x in championName]\n",
      "\n",
      "# find summoner ID\n",
      "summonerId = []\n",
      "for summName in summonerName:\n",
      "    url = 'https://na.api.pvp.net/api/lol/na/v1.4/summoner/by-name/'+summName+'?api_key=' + apiKey\n",
      "    query = requests.get(url).json()\n",
      "    summonerId.append(str(query[summName]['id']))\n",
      "    \n",
      "print summonerId\n",
      "\n",
      "# convert championName to championID\n",
      "championId = [championLookup[x] for x in championName]\n",
      "print championId"
     ],
     "language": "python",
     "metadata": {},
     "outputs": [
      {
       "output_type": "stream",
       "stream": "stdout",
       "text": [
        "['44900132', '32174023']\n",
        "['76', '117']\n"
       ]
      }
     ],
     "prompt_number": 88
    },
    {
     "cell_type": "code",
     "collapsed": false,
     "input": [
      "# interesting stats to look for\n",
      "games = []\n",
      "KD = []\n",
      "KDA = []\n",
      "csPerGame = []\n",
      "winRate = []\n",
      "dmgPerGame = []\n",
      "\n",
      "\n",
      "# get champion statistics per summoner\n",
      "for idx, summId in enumerate(summonerId):\n",
      "    url = 'https://na.api.pvp.net/api/lol/na/v1.3/stats/by-summoner/'+summId+'/ranked?season=SEASON4&api_key='+apiKey\n",
      "    query = requests.get(url).json()\n",
      "    foundFlag = False\n",
      "    for champ in query['champions']:\n",
      "        if champ['id'] == int(championId[idx]):\n",
      "            # some syntax shortcuts for readibility\n",
      "            stats = champ['stats']\n",
      "            numGames = float(stats['totalSessionsPlayed'])\n",
      "            kills = float(stats['totalChampionKills'])/numGames\n",
      "            assists = float(stats['totalAssists'])/numGames\n",
      "            deaths = float(stats['totalDeathsPerSession'])/numGames \n",
      "            cs = float(stats['totalMinionKills']/numGames)\n",
      "            wins = float(stats['totalSessionsWon'])\n",
      "            damage = float(stats['totalDamageDealt']/numGames)\n",
      "            \n",
      "            # add per game numbers to lists\n",
      "            games.append(numGames)\n",
      "            KD.append(kills/deaths)\n",
      "            KDA.append((kills+assists)/deaths)\n",
      "            csPerGame.append(cs)\n",
      "            winRate.append(wins/numGames*100)\n",
      "            dmgPerGame.append(damage)\n",
      "            foundFlag = True\n",
      "            \n",
      "        if champ == query['champions'][-1] and not(foundFlag):\n",
      "            games.append(0.0)\n",
      "            KD.append(0.0)\n",
      "            KDA.append(0.0)\n",
      "            csPerGame.append(0.0)\n",
      "            winRate.append(0.0)\n",
      "            dmgPerGame.append(0.0)\n",
      "            \n",
      "print games\n",
      "print KD\n",
      "print KDA\n",
      "print csPerGame\n",
      "print winRate\n",
      "print dmgPerGame"
     ],
     "language": "python",
     "metadata": {},
     "outputs": [
      {
       "output_type": "stream",
       "stream": "stdout",
       "text": [
        "[22.0, 7.0]\n",
        "[2.919354838709677, 1.4285714285714286]\n",
        "[5.548387096774193, 5.142857142857142]\n",
        "[202.45454545454547, 123.71428571428571]\n",
        "[77.27272727272727, 71.42857142857143]\n",
        "[171649.54545454544, 85296.57142857143]\n"
       ]
      }
     ],
     "prompt_number": 89
    }
   ],
   "metadata": {}
  }
 ]
}