{
 "metadata": {
  "name": "",
  "signature": "sha256:cc9f76888617037b1acfcbdecb1909d42a4b283eddf931563fe30f4de68dc9cb"
 },
 "nbformat": 3,
 "nbformat_minor": 0,
 "worksheets": [
  {
   "cells": [
    {
     "cell_type": "code",
     "collapsed": false,
     "input": [],
     "language": "python",
     "metadata": {},
     "outputs": []
    }
   ],
   "metadata": {}
  }
 ]
}