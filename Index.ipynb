{
 "metadata": {
  "name": "",
  "signature": "sha256:7fb7c780acb1ab4c556be34d1597fe3c8e3c07bd0fae2c8fc8bac980cd978733"
 },
 "nbformat": 3,
 "nbformat_minor": 0,
 "worksheets": [
  {
   "cells": [
    {
     "cell_type": "heading",
     "level": 1,
     "metadata": {},
     "source": [
      "Data Science in eSports: League of Legends"
     ]
    },
    {
     "cell_type": "heading",
     "level": 4,
     "metadata": {},
     "source": [
      "Wesley Chen and Jason Wang"
     ]
    },
    {
     "cell_type": "heading",
     "level": 4,
     "metadata": {},
     "source": [
      "Clone our Code: https://github.com/itsWezzles/DataScienceLeague"
     ]
    },
    {
     "cell_type": "heading",
     "level": 3,
     "metadata": {},
     "source": [
      "League of... Legends?"
     ]
    },
    {
     "cell_type": "markdown",
     "metadata": {},
     "source": [
      "Every day, around the world,  there are 27 million unique players on League.  In comparison, World of Warcraft, which you may have heard of being hyper-addicting, only ever brought in 12 million players per day at its peak.\n",
      "\n",
      "There are professional teams from every continent.  The world championship this year was held in the Seoul Olympic Stadium, attended to live by 45,000.  They competed for a $1,000,000 grand prize and the opening ceremony included a commissioned piece for League of Legends by Imagine Dragons (https://www.youtube.com/watch?v=O-0AvmP94n0)\n",
      "\n",
      "The overall viewership of the 2013 League World Finals was 32 million, beating viewership of both the NBA finals and Game 7 of the 2014 World Series, (at 15.5 million and 23.5 million,respectively).\n",
      "\n",
      "With so many games being played, the data of League of Legends is just as readily available as statistics in other sports.  It's time to apply data science to League of Legends."
     ]
    },
    {
     "cell_type": "heading",
     "level": 3,
     "metadata": {},
     "source": [
      "How to Play"
     ]
    },
    {
     "cell_type": "markdown",
     "metadata": {},
     "source": [
      "10 players spawn onto a map, 5 per side.  One player can only control one champion.  There are paths to reach the other team's base, protected by destructible but damaging towers.  The first team to destroy the other team's base wins.  Players can earn gold to buy items to become stronger.  Gold is earned through killing enemy minions (computer spawned AI pawns) or successfully killing an enemy champion.  When a champion dies, he or she will be respawned on a timer that increases over time.  When uncontested, objectives such as parts of the base can be destroyed - leading to victory.\n",
      "\n",
      "Each League game starts from a reset map, like each game of chess.  Everyone starts from the same position but it's up to how you make your moves that distinguishes the good from the bad.\n",
      "\n",
      "For a more visual description or for even more details, we'll let Riot Games make their pitch: http://gameinfo.na.leagueoflegends.com/en/game-info/get-started/what-is-lol/\n",
      "\n",
      "Or perhaps watch a League Game currently being streamed live on Twitch.tv:\n",
      "http://www.twitch.tv/directory/game/League%20of%20Legends"
     ]
    },
    {
     "cell_type": "heading",
     "level": 3,
     "metadata": {},
     "source": [
      "Project Goals"
     ]
    },
    {
     "cell_type": "markdown",
     "metadata": {},
     "source": [
      "1. Get training data of many past matches and players on the champions they were playing\n",
      "\n",
      "2. For each player, get his or her previous statistics with the same champion\n",
      "\n",
      "3. Train with the result of the match as the target to see if we can determine which statistics were the most useful to predict win or loss\n",
      "\n",
      "4. Learn from working with the data and any analysis to see if any surprising data-supported claims could be made"
     ]
    },
    {
     "cell_type": "heading",
     "level": 3,
     "metadata": {},
     "source": [
      "Progress Book Walkthrough/Overivew"
     ]
    },
    {
     "cell_type": "markdown",
     "metadata": {},
     "source": [
      "Our project is broken down into 5 other iPython notebooks where we perform modularized tasks to achieve our final predictive state.  The goal if the index is to provide some general introduction, high level orgnization and some summarizing comments more related to the project experience.\n",
      "\n",
      "Also listed below are the iPython notebook names to follow through the logic of our project - with some comments about each notebook as well.  Please crossreference them with the actual notebook contents and comments when looking through the code and visualizations.  \n",
      "\n",
      "Again, in order of logic:\n",
      "\n",
      "1. Learning The API.ipynb\n",
      "\n",
      "-Our first experimentation with the API, familiarity with working with the Riot API which is found https://developer.riotgames.com/api/methods and queriable through curl to return json objects\n",
      "-Although easy to get, the json objects were often large and contained many nested layers\n",
      "-We demonstrate the ability to search for and find some statsitics for how Wesley and Jason have historically done on two given champions\n",
      "\n",
      "2. GetTrainingData.ipynb\n",
      "\n",
      "3. DataSummarizing and Cleaning.ipynb\n",
      "\n",
      "4. Initial Data Analysis.ipynb\n",
      "\n",
      "5. Full Data Analysis.ipynb"
     ]
    },
    {
     "cell_type": "heading",
     "level": 3,
     "metadata": {},
     "source": [
      "Unexpected Obstacles"
     ]
    },
    {
     "cell_type": "markdown",
     "metadata": {},
     "source": [
      "1. Strongly limited to Information API had\n",
      "A\n",
      "\n",
      "2. Time Biasing\n",
      "A\n",
      "\n",
      "3. Understandably Harder to Predict and Optimize for\n",
      "A"
     ]
    },
    {
     "cell_type": "heading",
     "level": 3,
     "metadata": {},
     "source": [
      "Future Work"
     ]
    },
    {
     "cell_type": "markdown",
     "metadata": {},
     "source": [
      "Given an understanding of what exact statistics are saved and available now, it may be interesting to be able to look at the data to see if we can make claims about a certain champion (ones that are hard to play, or those that although do indvidually well, tend to lose games anyway).  Perhaps we could also filter the games colleted by the ELO (or think chess rating) to make some statements about how different quality players play differently.  Having all levels of games may be putting in too much noise or variation to make overarching statement about the entire game."
     ]
    },
    {
     "cell_type": "heading",
     "level": 3,
     "metadata": {},
     "source": [
      "Conclusion"
     ]
    },
    {
     "cell_type": "markdown",
     "metadata": {},
     "source": [
      "Overall, we were able to demonstrate some predctive 60-70% tuned power in a difficult space.  We were able to identify important factors with past win rate on your champion and your kill-to-death ratio being the most important.  Though other factors were close the predictive power of the kill-death ratio.  Even more successfully, we were able to learn some interesting facts about the game from working with the data.  The kill-death ratio, the most commonly cited statistics by players to boast ability, predicts game results fairly strongly - however, only at intermediate levels.  Players that have too high of a KDA actually lose games - why? Perhaps they are playing too greedily and stealing all the gold away and netting a loss anyway!"
     ]
    }
   ],
   "metadata": {}
  }
 ]
}