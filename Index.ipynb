{
 "metadata": {
  "name": "",
  "signature": "sha256:cf66e632003b4f6aaffaac1a96c68725d8996e5c77931c774b56facac4bf5bc1"
 },
 "nbformat": 3,
 "nbformat_minor": 0,
 "worksheets": [
  {
   "cells": [
    {
     "cell_type": "heading",
     "level": 1,
     "metadata": {},
     "source": [
      "Data Science in eSports: League of Legends"
     ]
    },
    {
     "cell_type": "heading",
     "level": 4,
     "metadata": {},
     "source": [
      "Wesley Chen and Jason Wang"
     ]
    },
    {
     "cell_type": "heading",
     "level": 4,
     "metadata": {},
     "source": [
      "Clone our Code: https://github.com/itsWezzles/DataScienceLeague"
     ]
    },
    {
     "cell_type": "heading",
     "level": 3,
     "metadata": {},
     "source": [
      "Introduction to League"
     ]
    },
    {
     "cell_type": "markdown",
     "metadata": {},
     "source": [
      "League of Legends is a game of the MOBA (Multiplayer Online Battle Arena) genre."
     ]
    },
    {
     "cell_type": "heading",
     "level": 3,
     "metadata": {},
     "source": [
      "How to Play"
     ]
    },
    {
     "cell_type": "markdown",
     "metadata": {},
     "source": [
      "10 players spawn onto a map, 5 per side.  One player can only control one champion.  There are paths to reach the other team's base, protected by destructible but damaging towers.  The first team to destroy the other team's base wins.\n",
      "\n",
      "For a more visual description or for even more details, we'll let Riot Games make their pitch: http://gameinfo.na.leagueoflegends.com/en/game-info/get-started/what-is-lol/"
     ]
    },
    {
     "cell_type": "heading",
     "level": 3,
     "metadata": {},
     "source": [
      "Project Goals"
     ]
    },
    {
     "cell_type": "heading",
     "level": 3,
     "metadata": {},
     "source": [
      "Progress Book Walkthrough"
     ]
    },
    {
     "cell_type": "markdown",
     "metadata": {},
     "source": [
      "Our project is broken down into 5 other iPython notebooks where we perform modularized tasks to achieve our final predictive state.  "
     ]
    }
   ],
   "metadata": {}
  }
 ]
}